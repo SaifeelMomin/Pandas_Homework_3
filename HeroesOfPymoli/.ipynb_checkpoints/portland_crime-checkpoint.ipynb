{
 "cells": [
  {
   "cell_type": "markdown",
   "metadata": {},
   "source": [
    "# Portland Crime"
   ]
  },
  {
   "cell_type": "markdown",
   "metadata": {},
   "source": [
    "## Import Packages and Load Data"
   ]
  },
  {
   "cell_type": "code",
   "execution_count": 1,
   "metadata": {},
   "outputs": [],
   "source": [
    "import os\n",
    "import pandas as pd"
   ]
  },
  {
   "cell_type": "code",
   "execution_count": 2,
   "metadata": {},
   "outputs": [],
   "source": [
    "path = os.path.join(\"Resources\", \"crime_incident_data2017.csv\")"
   ]
  },
  {
   "cell_type": "code",
   "execution_count": 3,
   "metadata": {},
   "outputs": [],
   "source": [
    "df = pd.read_csv(path)"
   ]
  },
  {
   "cell_type": "code",
   "execution_count": 4,
   "metadata": {},
   "outputs": [
    {
     "data": {
      "text/html": [
       "<div>\n",
       "<style scoped>\n",
       "    .dataframe tbody tr th:only-of-type {\n",
       "        vertical-align: middle;\n",
       "    }\n",
       "\n",
       "    .dataframe tbody tr th {\n",
       "        vertical-align: top;\n",
       "    }\n",
       "\n",
       "    .dataframe thead th {\n",
       "        text-align: right;\n",
       "    }\n",
       "</style>\n",
       "<table border=\"1\" class=\"dataframe\">\n",
       "  <thead>\n",
       "    <tr style=\"text-align: right;\">\n",
       "      <th></th>\n",
       "      <th>Address</th>\n",
       "      <th>Case Number</th>\n",
       "      <th>Crime Against</th>\n",
       "      <th>Neighborhood</th>\n",
       "      <th>Number of Records</th>\n",
       "      <th>Occur Date</th>\n",
       "      <th>Occur Month Year</th>\n",
       "      <th>Occur Time</th>\n",
       "      <th>Offense Category</th>\n",
       "      <th>Offense Count</th>\n",
       "      <th>Offense Type</th>\n",
       "      <th>Open Data Lat</th>\n",
       "      <th>Open Data Lon</th>\n",
       "      <th>Open Data X</th>\n",
       "      <th>Open Data Y</th>\n",
       "      <th>Report Date</th>\n",
       "      <th>Report Month Year</th>\n",
       "    </tr>\n",
       "  </thead>\n",
       "  <tbody>\n",
       "    <tr>\n",
       "      <th>0</th>\n",
       "      <td>NaN</td>\n",
       "      <td>17-X4762181</td>\n",
       "      <td>Person</td>\n",
       "      <td>NaN</td>\n",
       "      <td>1</td>\n",
       "      <td>1/1/96</td>\n",
       "      <td>1/1/96</td>\n",
       "      <td>800</td>\n",
       "      <td>Sex Offenses</td>\n",
       "      <td>1</td>\n",
       "      <td>Rape</td>\n",
       "      <td>NaN</td>\n",
       "      <td>NaN</td>\n",
       "      <td>NaN</td>\n",
       "      <td>NaN</td>\n",
       "      <td>1/26/17</td>\n",
       "      <td>1/1/17</td>\n",
       "    </tr>\n",
       "    <tr>\n",
       "      <th>1</th>\n",
       "      <td>NaN</td>\n",
       "      <td>17-X4757824</td>\n",
       "      <td>Property</td>\n",
       "      <td>Centennial</td>\n",
       "      <td>1</td>\n",
       "      <td>1/20/00</td>\n",
       "      <td>1/1/00</td>\n",
       "      <td>1615</td>\n",
       "      <td>Fraud Offenses</td>\n",
       "      <td>1</td>\n",
       "      <td>Identity Theft</td>\n",
       "      <td>NaN</td>\n",
       "      <td>NaN</td>\n",
       "      <td>NaN</td>\n",
       "      <td>NaN</td>\n",
       "      <td>1/20/17</td>\n",
       "      <td>1/1/17</td>\n",
       "    </tr>\n",
       "    <tr>\n",
       "      <th>2</th>\n",
       "      <td>200 BLOCK OF SE 78TH AVE</td>\n",
       "      <td>17-900367</td>\n",
       "      <td>Property</td>\n",
       "      <td>Montavilla</td>\n",
       "      <td>1</td>\n",
       "      <td>12/1/03</td>\n",
       "      <td>12/1/03</td>\n",
       "      <td>800</td>\n",
       "      <td>Fraud Offenses</td>\n",
       "      <td>1</td>\n",
       "      <td>False Pretenses/Swindle/Confidence Game</td>\n",
       "      <td>45.5207</td>\n",
       "      <td>-122.583</td>\n",
       "      <td>7668150.0</td>\n",
       "      <td>682825.0</td>\n",
       "      <td>1/9/17</td>\n",
       "      <td>1/1/17</td>\n",
       "    </tr>\n",
       "    <tr>\n",
       "      <th>3</th>\n",
       "      <td>NaN</td>\n",
       "      <td>17-X4748982</td>\n",
       "      <td>Property</td>\n",
       "      <td>Southwest Hills</td>\n",
       "      <td>1</td>\n",
       "      <td>1/1/10</td>\n",
       "      <td>1/1/10</td>\n",
       "      <td>0</td>\n",
       "      <td>Fraud Offenses</td>\n",
       "      <td>1</td>\n",
       "      <td>Identity Theft</td>\n",
       "      <td>NaN</td>\n",
       "      <td>NaN</td>\n",
       "      <td>NaN</td>\n",
       "      <td>NaN</td>\n",
       "      <td>1/5/17</td>\n",
       "      <td>1/1/17</td>\n",
       "    </tr>\n",
       "    <tr>\n",
       "      <th>4</th>\n",
       "      <td>NaN</td>\n",
       "      <td>17-X4748982</td>\n",
       "      <td>Property</td>\n",
       "      <td>Southwest Hills</td>\n",
       "      <td>1</td>\n",
       "      <td>1/1/10</td>\n",
       "      <td>1/1/10</td>\n",
       "      <td>0</td>\n",
       "      <td>Larceny Offenses</td>\n",
       "      <td>1</td>\n",
       "      <td>All Other Larceny</td>\n",
       "      <td>NaN</td>\n",
       "      <td>NaN</td>\n",
       "      <td>NaN</td>\n",
       "      <td>NaN</td>\n",
       "      <td>1/5/17</td>\n",
       "      <td>1/1/17</td>\n",
       "    </tr>\n",
       "  </tbody>\n",
       "</table>\n",
       "</div>"
      ],
      "text/plain": [
       "                    Address  Case Number Crime Against     Neighborhood  \\\n",
       "0                       NaN  17-X4762181        Person              NaN   \n",
       "1                       NaN  17-X4757824      Property       Centennial   \n",
       "2  200 BLOCK OF SE 78TH AVE    17-900367      Property       Montavilla   \n",
       "3                       NaN  17-X4748982      Property  Southwest Hills   \n",
       "4                       NaN  17-X4748982      Property  Southwest Hills   \n",
       "\n",
       "   Number of Records Occur Date Occur Month Year  Occur Time  \\\n",
       "0                  1     1/1/96           1/1/96         800   \n",
       "1                  1    1/20/00           1/1/00        1615   \n",
       "2                  1    12/1/03          12/1/03         800   \n",
       "3                  1     1/1/10           1/1/10           0   \n",
       "4                  1     1/1/10           1/1/10           0   \n",
       "\n",
       "   Offense Category  Offense Count                             Offense Type  \\\n",
       "0      Sex Offenses              1                                     Rape   \n",
       "1    Fraud Offenses              1                           Identity Theft   \n",
       "2    Fraud Offenses              1  False Pretenses/Swindle/Confidence Game   \n",
       "3    Fraud Offenses              1                           Identity Theft   \n",
       "4  Larceny Offenses              1                        All Other Larceny   \n",
       "\n",
       "   Open Data Lat  Open Data Lon  Open Data X  Open Data Y Report Date  \\\n",
       "0            NaN            NaN          NaN          NaN     1/26/17   \n",
       "1            NaN            NaN          NaN          NaN     1/20/17   \n",
       "2        45.5207       -122.583    7668150.0     682825.0      1/9/17   \n",
       "3            NaN            NaN          NaN          NaN      1/5/17   \n",
       "4            NaN            NaN          NaN          NaN      1/5/17   \n",
       "\n",
       "  Report Month Year  \n",
       "0            1/1/17  \n",
       "1            1/1/17  \n",
       "2            1/1/17  \n",
       "3            1/1/17  \n",
       "4            1/1/17  "
      ]
     },
     "execution_count": 4,
     "metadata": {},
     "output_type": "execute_result"
    }
   ],
   "source": [
    "df.head()"
   ]
  },
  {
   "cell_type": "code",
   "execution_count": 5,
   "metadata": {},
   "outputs": [
    {
     "data": {
      "text/plain": [
       "Index(['Address', 'Case Number', 'Crime Against', 'Neighborhood',\n",
       "       'Number of Records', 'Occur Date', 'Occur Month Year', 'Occur Time',\n",
       "       'Offense Category', 'Offense Count', 'Offense Type', 'Open Data Lat',\n",
       "       'Open Data Lon', 'Open Data X', 'Open Data Y', 'Report Date',\n",
       "       'Report Month Year'],\n",
       "      dtype='object')"
      ]
     },
     "execution_count": 5,
     "metadata": {},
     "output_type": "execute_result"
    }
   ],
   "source": [
    "df.columns"
   ]
  },
  {
   "cell_type": "markdown",
   "metadata": {},
   "source": [
    "## Preliminary Data Analysis"
   ]
  },
  {
   "cell_type": "code",
   "execution_count": 6,
   "metadata": {},
   "outputs": [
    {
     "data": {
      "text/plain": [
       "(41032, 17)"
      ]
     },
     "execution_count": 6,
     "metadata": {},
     "output_type": "execute_result"
    }
   ],
   "source": [
    "df.shape"
   ]
  },
  {
   "cell_type": "code",
   "execution_count": 7,
   "metadata": {},
   "outputs": [
    {
     "data": {
      "text/plain": [
       "Address              37365\n",
       "Case Number          41032\n",
       "Crime Against        41032\n",
       "Neighborhood         39712\n",
       "Number of Records    41032\n",
       "Occur Date           41032\n",
       "Occur Month Year     41032\n",
       "Occur Time           41032\n",
       "Offense Category     41032\n",
       "Offense Count        41032\n",
       "Offense Type         41032\n",
       "Open Data Lat        36712\n",
       "Open Data Lon        36712\n",
       "Open Data X          36712\n",
       "Open Data Y          36712\n",
       "Report Date          41032\n",
       "Report Month Year    41032\n",
       "dtype: int64"
      ]
     },
     "execution_count": 7,
     "metadata": {},
     "output_type": "execute_result"
    }
   ],
   "source": [
    "df.count()"
   ]
  },
  {
   "cell_type": "markdown",
   "metadata": {},
   "source": [
    "There are some missing values."
   ]
  },
  {
   "cell_type": "code",
   "execution_count": 8,
   "metadata": {},
   "outputs": [
    {
     "data": {
      "text/plain": [
       "array(['Sex Offenses', 'Fraud Offenses', 'Larceny Offenses',\n",
       "       'Embezzlement', 'Motor Vehicle Theft', 'Burglary',\n",
       "       'Counterfeiting/Forgery', 'Assault Offenses', 'Vandalism',\n",
       "       'Sex Offenses, Nonforcible', 'Robbery', 'Drug/Narcotic Offenses',\n",
       "       'Stolen Property Offenses', 'Weapon Law Violations', 'Arson',\n",
       "       'Extortion/Blackmail', 'Prostitution Offenses',\n",
       "       'Kidnapping/Abduction', 'Human Trafficking Offenses',\n",
       "       'Pornography/Obscene Material', 'Homicide Offenses',\n",
       "       'Animal Cruelty Offenses'], dtype=object)"
      ]
     },
     "execution_count": 8,
     "metadata": {},
     "output_type": "execute_result"
    }
   ],
   "source": [
    "df[\"Offense Category\"].unique()"
   ]
  },
  {
   "cell_type": "code",
   "execution_count": 9,
   "metadata": {},
   "outputs": [
    {
     "data": {
      "text/plain": [
       "Larceny Offenses                16781\n",
       "Assault Offenses                 5348\n",
       "Motor Vehicle Theft              4799\n",
       "Vandalism                        4189\n",
       "Fraud Offenses                   3309\n",
       "Burglary                         2901\n",
       "Drug/Narcotic Offenses           1148\n",
       "Robbery                           680\n",
       "Counterfeiting/Forgery            470\n",
       "Sex Offenses                      436\n",
       "Weapon Law Violations             298\n",
       "Arson                             221\n",
       "Prostitution Offenses             177\n",
       "Embezzlement                       78\n",
       "Stolen Property Offenses           59\n",
       "Kidnapping/Abduction               56\n",
       "Sex Offenses, Nonforcible          19\n",
       "Animal Cruelty Offenses            19\n",
       "Homicide Offenses                  14\n",
       "Extortion/Blackmail                13\n",
       "Pornography/Obscene Material       11\n",
       "Human Trafficking Offenses          6\n",
       "Name: Offense Category, dtype: int64"
      ]
     },
     "execution_count": 9,
     "metadata": {},
     "output_type": "execute_result"
    }
   ],
   "source": [
    "df[\"Offense Category\"].value_counts()"
   ]
  },
  {
   "cell_type": "code",
   "execution_count": 10,
   "metadata": {},
   "outputs": [
    {
     "data": {
      "text/plain": [
       "array(['Rape', 'Identity Theft',\n",
       "       'False Pretenses/Swindle/Confidence Game', 'All Other Larceny',\n",
       "       'Credit Card/ATM Fraud', 'Embezzlement', 'Shoplifting',\n",
       "       'Theft From Motor Vehicle', 'Motor Vehicle Theft', 'Burglary',\n",
       "       'Theft of Motor Vehicle Parts or Accessories',\n",
       "       'Counterfeiting/Forgery', 'Intimidation', 'Vandalism',\n",
       "       'Statutory Rape', 'Simple Assault', 'Theft From Building',\n",
       "       'Robbery', 'Fondling', 'Aggravated Assault',\n",
       "       'Theft From Coin-Operated Machine or Device',\n",
       "       'Sexual Assault With An Object', 'Hacking/Computer Invasion',\n",
       "       'Drug/Narcotic Violations', 'Pocket-Picking',\n",
       "       'Stolen Property Offenses', 'Weapons Law Violations',\n",
       "       'Purse-Snatching', 'Arson', 'Extortion/Blackmail', 'Sodomy',\n",
       "       'Prostitution', 'Kidnapping/Abduction',\n",
       "       'Drug Equipment Violations', 'Wire Fraud', 'Involuntary Servitude',\n",
       "       'Pornography/Obscene Material', 'Commercial Sex Acts',\n",
       "       'Assisting or Promoting Prostitution', 'Impersonation',\n",
       "       'Murder and Non-negligent Manslaughter', 'Animal Cruelty',\n",
       "       'Incest', 'Welfare Fraud'], dtype=object)"
      ]
     },
     "execution_count": 10,
     "metadata": {},
     "output_type": "execute_result"
    }
   ],
   "source": [
    "df[\"Offense Type\"].unique()"
   ]
  },
  {
   "cell_type": "code",
   "execution_count": 11,
   "metadata": {},
   "outputs": [
    {
     "data": {
      "text/plain": [
       "Theft From Motor Vehicle                       7256\n",
       "All Other Larceny                              4900\n",
       "Motor Vehicle Theft                            4799\n",
       "Vandalism                                      4189\n",
       "Burglary                                       2901\n",
       "Simple Assault                                 2453\n",
       "Shoplifting                                    2332\n",
       "Identity Theft                                 2040\n",
       "Intimidation                                   1678\n",
       "Aggravated Assault                             1217\n",
       "Drug/Narcotic Violations                       1142\n",
       "Theft of Motor Vehicle Parts or Accessories    1107\n",
       "False Pretenses/Swindle/Confidence Game         972\n",
       "Theft From Building                             961\n",
       "Robbery                                         680\n",
       "Counterfeiting/Forgery                          470\n",
       "Weapons Law Violations                          298\n",
       "Credit Card/ATM Fraud                           264\n",
       "Rape                                            228\n",
       "Arson                                           221\n",
       "Prostitution                                    166\n",
       "Fondling                                        147\n",
       "Pocket-Picking                                  107\n",
       "Purse-Snatching                                  98\n",
       "Embezzlement                                     78\n",
       "Stolen Property Offenses                         59\n",
       "Kidnapping/Abduction                             56\n",
       "Sodomy                                           51\n",
       "Hacking/Computer Invasion                        22\n",
       "Theft From Coin-Operated Machine or Device       20\n",
       "Animal Cruelty                                   19\n",
       "Statutory Rape                                   18\n",
       "Murder and Non-negligent Manslaughter            14\n",
       "Extortion/Blackmail                              13\n",
       "Pornography/Obscene Material                     11\n",
       "Assisting or Promoting Prostitution              11\n",
       "Sexual Assault With An Object                    10\n",
       "Drug Equipment Violations                         6\n",
       "Impersonation                                     6\n",
       "Involuntary Servitude                             4\n",
       "Wire Fraud                                        4\n",
       "Commercial Sex Acts                               2\n",
       "Welfare Fraud                                     1\n",
       "Incest                                            1\n",
       "Name: Offense Type, dtype: int64"
      ]
     },
     "execution_count": 11,
     "metadata": {},
     "output_type": "execute_result"
    }
   ],
   "source": [
    "df[\"Offense Type\"].value_counts()"
   ]
  },
  {
   "cell_type": "markdown",
   "metadata": {},
   "source": [
    "Offense Type is well coded."
   ]
  },
  {
   "cell_type": "code",
   "execution_count": 12,
   "metadata": {},
   "outputs": [
    {
     "data": {
      "text/plain": [
       "Downtown               2802\n",
       "Hazelwood              2616\n",
       "Lents                  1502\n",
       "Powellhurst-Gilbert    1467\n",
       "Old Town/Chinatown     1311\n",
       "                       ... \n",
       "Arnold Creek             23\n",
       "Woodland Park            19\n",
       "Crestwood                 8\n",
       "Marshall Park             6\n",
       "Healy Heights             5\n",
       "Name: Neighborhood, Length: 96, dtype: int64"
      ]
     },
     "execution_count": 12,
     "metadata": {},
     "output_type": "execute_result"
    }
   ],
   "source": [
    "df[\"Neighborhood\"].dropna().value_counts()"
   ]
  },
  {
   "cell_type": "code",
   "execution_count": 13,
   "metadata": {},
   "outputs": [
    {
     "data": {
      "text/plain": [
       "1     40989\n",
       "2        38\n",
       "3         2\n",
       "16        1\n",
       "7         1\n",
       "4         1\n",
       "Name: Offense Count, dtype: int64"
      ]
     },
     "execution_count": 13,
     "metadata": {},
     "output_type": "execute_result"
    }
   ],
   "source": [
    "df[\"Offense Count\"].value_counts()"
   ]
  },
  {
   "cell_type": "code",
   "execution_count": 14,
   "metadata": {},
   "outputs": [
    {
     "data": {
      "text/plain": [
       "array(['Motor Vehicle Theft'], dtype=object)"
      ]
     },
     "execution_count": 14,
     "metadata": {},
     "output_type": "execute_result"
    }
   ],
   "source": [
    "# less efficient\n",
    "df[df[\"Offense Count\"] >= 2][\"Offense Category\"].unique()"
   ]
  },
  {
   "cell_type": "code",
   "execution_count": 15,
   "metadata": {},
   "outputs": [
    {
     "data": {
      "text/plain": [
       "array(['Motor Vehicle Theft'], dtype=object)"
      ]
     },
     "execution_count": 15,
     "metadata": {},
     "output_type": "execute_result"
    }
   ],
   "source": [
    "# more efficient\n",
    "df.loc[df[\"Offense Count\"] >= 2, \"Offense Category\"].unique()"
   ]
  },
  {
   "cell_type": "markdown",
   "metadata": {},
   "source": [
    "Offense Count is only used for motor vehicle theft"
   ]
  },
  {
   "cell_type": "code",
   "execution_count": 16,
   "metadata": {},
   "outputs": [
    {
     "data": {
      "text/plain": [
       "array([1])"
      ]
     },
     "execution_count": 16,
     "metadata": {},
     "output_type": "execute_result"
    }
   ],
   "source": [
    "df[\"Number of Records\"].unique()"
   ]
  },
  {
   "cell_type": "markdown",
   "metadata": {},
   "source": [
    "The value for Number of Records is always 1. So the column is useless."
   ]
  },
  {
   "cell_type": "markdown",
   "metadata": {},
   "source": [
    "## Cleaning"
   ]
  },
  {
   "cell_type": "code",
   "execution_count": 17,
   "metadata": {},
   "outputs": [],
   "source": [
    "df = pd.read_csv(path)\n",
    "\n",
    "df = df[[\n",
    "    \"Neighborhood\",\n",
    "    \"Occur Date\",\n",
    "    \"Occur Time\",\n",
    "    \"Offense Category\",\n",
    "    \"Offense Type\",\n",
    "    \"Offense Count\",\n",
    "    \"Report Date\"\n",
    "]]\\\n",
    "    .rename(columns=lambda s: s.lower().replace(\" \", \"_\"))\\\n",
    "    .assign(report_date=lambda df: pd.to_datetime(df[\"report_date\"], format=\"%m/%d/%y\"))\n",
    "\n",
    "clean_date = pd.to_datetime(\n",
    "    (df[\"occur_date\"] + \":\" + df[\"occur_time\"].astype(\"str\").apply(lambda s: s[0:-2] + \":\" + s[-2:])),\n",
    "    format=\"%m/%d/%y:%H:%M\",\n",
    "    errors=\"coerce\"\n",
    ")\n",
    "\n",
    "df = df.assign(occur_date=clean_date)\n",
    "df = df.dropna()"
   ]
  },
  {
   "cell_type": "markdown",
   "metadata": {},
   "source": [
    "## Analysis"
   ]
  },
  {
   "cell_type": "code",
   "execution_count": 18,
   "metadata": {},
   "outputs": [
    {
     "data": {
      "text/html": [
       "<div>\n",
       "<style scoped>\n",
       "    .dataframe tbody tr th:only-of-type {\n",
       "        vertical-align: middle;\n",
       "    }\n",
       "\n",
       "    .dataframe tbody tr th {\n",
       "        vertical-align: top;\n",
       "    }\n",
       "\n",
       "    .dataframe thead th {\n",
       "        text-align: right;\n",
       "    }\n",
       "</style>\n",
       "<table border=\"1\" class=\"dataframe\">\n",
       "  <thead>\n",
       "    <tr style=\"text-align: right;\">\n",
       "      <th></th>\n",
       "      <th>neighborhood</th>\n",
       "      <th>occur_date</th>\n",
       "      <th>occur_time</th>\n",
       "      <th>offense_category</th>\n",
       "      <th>offense_type</th>\n",
       "      <th>offense_count</th>\n",
       "      <th>report_date</th>\n",
       "    </tr>\n",
       "  </thead>\n",
       "  <tbody>\n",
       "    <tr>\n",
       "      <th>1</th>\n",
       "      <td>Centennial</td>\n",
       "      <td>2000-01-20 16:15:00</td>\n",
       "      <td>1615</td>\n",
       "      <td>Fraud Offenses</td>\n",
       "      <td>Identity Theft</td>\n",
       "      <td>1</td>\n",
       "      <td>2017-01-20</td>\n",
       "    </tr>\n",
       "  </tbody>\n",
       "</table>\n",
       "</div>"
      ],
      "text/plain": [
       "  neighborhood          occur_date  occur_time offense_category  \\\n",
       "1   Centennial 2000-01-20 16:15:00        1615   Fraud Offenses   \n",
       "\n",
       "     offense_type  offense_count report_date  \n",
       "1  Identity Theft              1  2017-01-20  "
      ]
     },
     "execution_count": 18,
     "metadata": {},
     "output_type": "execute_result"
    }
   ],
   "source": [
    "df.head(1)"
   ]
  },
  {
   "cell_type": "markdown",
   "metadata": {},
   "source": [
    "### Report Delay"
   ]
  },
  {
   "cell_type": "markdown",
   "metadata": {},
   "source": [
    "### Most common offense"
   ]
  },
  {
   "cell_type": "markdown",
   "metadata": {},
   "source": [
    "One row equals one offense (because only vehicle offences are greater than 1)."
   ]
  },
  {
   "cell_type": "code",
   "execution_count": 19,
   "metadata": {},
   "outputs": [],
   "source": [
    "sorted_offense_type_counts = df[\"offense_type\"].value_counts()"
   ]
  },
  {
   "cell_type": "code",
   "execution_count": 20,
   "metadata": {},
   "outputs": [
    {
     "data": {
      "text/plain": [
       "Theft From Motor Vehicle    6468\n",
       "All Other Larceny           4436\n",
       "Motor Vehicle Theft         4408\n",
       "Vandalism                   3792\n",
       "Burglary                    2702\n",
       "Simple Assault              2296\n",
       "Shoplifting                 2233\n",
       "Identity Theft              1686\n",
       "Intimidation                1581\n",
       "Aggravated Assault          1116\n",
       "Name: offense_type, dtype: int64"
      ]
     },
     "execution_count": 20,
     "metadata": {},
     "output_type": "execute_result"
    }
   ],
   "source": [
    "sorted_offense_type_counts.head(10)"
   ]
  },
  {
   "cell_type": "code",
   "execution_count": 21,
   "metadata": {},
   "outputs": [
    {
     "data": {
      "text/plain": [
       "Welfare Fraud                           1\n",
       "Commercial Sex Acts                     2\n",
       "Wire Fraud                              4\n",
       "Impersonation                           5\n",
       "Drug Equipment Violations               6\n",
       "Assisting or Promoting Prostitution     8\n",
       "Sexual Assault With An Object           9\n",
       "Pornography/Obscene Material           11\n",
       "Statutory Rape                         11\n",
       "Extortion/Blackmail                    12\n",
       "Name: offense_type, dtype: int64"
      ]
     },
     "execution_count": 21,
     "metadata": {},
     "output_type": "execute_result"
    }
   ],
   "source": [
    "sorted_offense_type_counts.tail(10).sort_values()"
   ]
  },
  {
   "cell_type": "markdown",
   "metadata": {},
   "source": [
    "Only motor vehicles have offense count > 1"
   ]
  },
  {
   "cell_type": "code",
   "execution_count": 22,
   "metadata": {},
   "outputs": [
    {
     "data": {
      "text/plain": [
       "offense_type\n",
       "Welfare Fraud                                     1\n",
       "Commercial Sex Acts                               2\n",
       "Wire Fraud                                        4\n",
       "Impersonation                                     5\n",
       "Drug Equipment Violations                         6\n",
       "Assisting or Promoting Prostitution               8\n",
       "Sexual Assault With An Object                     9\n",
       "Pornography/Obscene Material                     11\n",
       "Statutory Rape                                   11\n",
       "Extortion/Blackmail                              12\n",
       "Murder and Non-negligent Manslaughter            13\n",
       "Theft From Coin-Operated Machine or Device       17\n",
       "Hacking/Computer Invasion                        18\n",
       "Animal Cruelty                                   19\n",
       "Sodomy                                           35\n",
       "Stolen Property Offenses                         53\n",
       "Kidnapping/Abduction                             53\n",
       "Embezzlement                                     62\n",
       "Pocket-Picking                                   88\n",
       "Purse-Snatching                                  92\n",
       "Fondling                                        123\n",
       "Prostitution                                    136\n",
       "Rape                                            166\n",
       "Arson                                           195\n",
       "Credit Card/ATM Fraud                           218\n",
       "Weapons Law Violations                          257\n",
       "Counterfeiting/Forgery                          430\n",
       "Robbery                                         640\n",
       "False Pretenses/Swindle/Confidence Game         825\n",
       "Theft From Building                             899\n",
       "Theft of Motor Vehicle Parts or Accessories     984\n",
       "Drug/Narcotic Violations                       1058\n",
       "Aggravated Assault                             1116\n",
       "Intimidation                                   1581\n",
       "Identity Theft                                 1686\n",
       "Shoplifting                                    2233\n",
       "Simple Assault                                 2296\n",
       "Burglary                                       2702\n",
       "Vandalism                                      3792\n",
       "All Other Larceny                              4436\n",
       "Motor Vehicle Theft                            4470\n",
       "Theft From Motor Vehicle                       6468\n",
       "Name: offense_count, dtype: int64"
      ]
     },
     "execution_count": 22,
     "metadata": {},
     "output_type": "execute_result"
    }
   ],
   "source": [
    "df.groupby('offense_type')[\"offense_count\"].sum().sort_values()"
   ]
  },
  {
   "cell_type": "markdown",
   "metadata": {},
   "source": [
    "### Most dangerous neighborhood"
   ]
  },
  {
   "cell_type": "code",
   "execution_count": 23,
   "metadata": {},
   "outputs": [],
   "source": [
    "sorted_neighborhood_counts = df[\"neighborhood\"].value_counts()"
   ]
  },
  {
   "cell_type": "code",
   "execution_count": 24,
   "metadata": {},
   "outputs": [
    {
     "data": {
      "text/plain": [
       "Downtown               2650\n",
       "Hazelwood              2484\n",
       "Lents                  1422\n",
       "Powellhurst-Gilbert    1355\n",
       "Old Town/Chinatown     1242\n",
       "Centennial             1181\n",
       "Northwest              1095\n",
       "Montavilla              993\n",
       "Pearl                   972\n",
       "Lloyd                   920\n",
       "Name: neighborhood, dtype: int64"
      ]
     },
     "execution_count": 24,
     "metadata": {},
     "output_type": "execute_result"
    }
   ],
   "source": [
    "sorted_neighborhood_counts.head(10)"
   ]
  },
  {
   "cell_type": "code",
   "execution_count": 25,
   "metadata": {},
   "outputs": [
    {
     "data": {
      "text/plain": [
       "Healy Heights         5\n",
       "Marshall Park         5\n",
       "Crestwood             6\n",
       "Woodland Park        19\n",
       "Arnold Creek         21\n",
       "South Burlingame     23\n",
       "Markham              24\n",
       "Northwest Heights    25\n",
       "Hillside             29\n",
       "Far Southwest        32\n",
       "Name: neighborhood, dtype: int64"
      ]
     },
     "execution_count": 25,
     "metadata": {},
     "output_type": "execute_result"
    }
   ],
   "source": [
    "sorted_neighborhood_counts.tail(10).sort_values()"
   ]
  },
  {
   "cell_type": "markdown",
   "metadata": {},
   "source": [
    "### Most dangerous hour"
   ]
  },
  {
   "cell_type": "code",
   "execution_count": 26,
   "metadata": {},
   "outputs": [
    {
     "data": {
      "text/plain": [
       "occur_date\n",
       "2017-06-17 19:00:00    42\n",
       "2017-01-01 01:00:00    25\n",
       "2017-02-14 12:00:00    24\n",
       "2017-05-25 20:00:00    24\n",
       "2017-02-24 22:00:00    23\n",
       "                       ..\n",
       "2004-07-21 21:00:00     0\n",
       "2004-07-21 22:00:00     0\n",
       "2004-07-21 23:00:00     0\n",
       "2004-07-22 00:00:00     0\n",
       "1998-09-08 15:00:00     0\n",
       "Name: offense_count, Length: 332752, dtype: int64"
      ]
     },
     "execution_count": 26,
     "metadata": {},
     "output_type": "execute_result"
    }
   ],
   "source": [
    "df.groupby(pd.Grouper(key=\"occur_date\", freq=\"1H\"))[\"offense_count\"].sum().sort_values(ascending=False)"
   ]
  },
  {
   "cell_type": "code",
   "execution_count": 27,
   "metadata": {},
   "outputs": [
    {
     "data": {
      "text/plain": [
       "<matplotlib.axes._subplots.AxesSubplot at 0x10c541ad0>"
      ]
     },
     "execution_count": 27,
     "metadata": {},
     "output_type": "execute_result"
    },
    {
     "data": {
      "image/png": "[encoded data removed]",
      "text/plain": [
       "<Figure size 432x288 with 1 Axes>"
      ]
     },
     "metadata": {
      "needs_background": "light"
     },
     "output_type": "display_data"
    }
   ],
   "source": [
    "df.groupby(df[\"occur_date\"].dt.hour).sum()[\"offense_count\"].plot(kind=\"bar\")"
   ]
  },
  {
   "cell_type": "markdown",
   "metadata": {},
   "source": [
    "### Worst Neigborhood for vehicle offences"
   ]
  }
 ],
 "metadata": {
  "kernelspec": {
   "display_name": "series_example1",
   "language": "python",
   "name": "python3"
  },
  "language_info": {
   "codemirror_mode": {
    "name": "ipython",
    "version": 3
   },
   "file_extension": ".py",
   "mimetype": "text/x-python",
   "name": "python",
   "nbconvert_exporter": "python",
   "pygments_lexer": "ipython3",
   "version": "3.8.0"
  }
 },
 "nbformat": 4,
 "nbformat_minor": 4
}
